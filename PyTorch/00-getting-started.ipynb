{
 "cells": [
  {
   "cell_type": "markdown",
   "metadata": {},
   "source": [
    "# Cara meng-install PyTorch di Python\n",
    "\n",
    "Source: https://pytorch.org/get-started/locally/"
   ]
  },
  {
   "cell_type": "markdown",
   "metadata": {},
   "source": [
    "Secara umum, untuk menginstall PyTorch dengan [CUDA](https://developer.nvidia.com/cuda-zone) versi 12.6 Anda perlu melakukan command di bawah ini"
   ]
  },
  {
   "cell_type": "code",
   "execution_count": null,
   "metadata": {},
   "outputs": [],
   "source": [
    "%pip install torch torchvision torchaudio --index-url https://download.pytorch.org/whl/cu126"
   ]
  },
  {
   "cell_type": "markdown",
   "metadata": {},
   "source": [
    "Untuk memastikan instalasi, lakukan command simple di bawah"
   ]
  },
  {
   "cell_type": "code",
   "execution_count": null,
   "metadata": {},
   "outputs": [],
   "source": [
    "import torch\n",
    "torch.__version__\n",
    "torch.cuda.is_available()"
   ]
  },
  {
   "cell_type": "markdown",
   "metadata": {},
   "source": [
    "#### Catatan Penting:\n",
    "\n",
    "Kemungkinan besarnya anda akan lebih memanfaatkan environment cloud seperti Google Colab ataupun Kaggle, karena hardware yang disediakannya bisa jadi jauh lebih kuat daripada yang anda miliki.Tentunya environment cloud pada umumnya memiliki keterbatasan penggunaan untuk akun non-subscription atau sejenisnya. Inilah yang menjadi tantangan dalam pemrograman arsitektur machine learning, khususnya di jaman sekarang yang semakin hari semakin terabstraksi. Ketika model ataupun metode state-of-the-art bermunculan di mana-mana siap dipakai (open source), kita seharusnya tetap berpikir: \"Bagaimana caranya agar solusi saya masih tetap efisien tanpa mengorbankan banyak hasil\"."
   ]
  }
 ],
 "metadata": {
  "kernelspec": {
   "display_name": "visdat-env",
   "language": "python",
   "name": "python3"
  },
  "language_info": {
   "name": "python",
   "version": "3.12.8"
  }
 },
 "nbformat": 4,
 "nbformat_minor": 2
}
