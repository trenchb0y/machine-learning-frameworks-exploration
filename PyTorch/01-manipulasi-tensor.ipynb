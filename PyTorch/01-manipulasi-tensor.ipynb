{
 "cells": [
  {
   "cell_type": "markdown",
   "metadata": {},
   "source": [
    "# Pengenalan Dasar Manipulasi Tensor menggunakan TensorFlow\n",
    "\n",
    "Import library yang akan digunakan seperti berikut"
   ]
  },
  {
   "cell_type": "markdown",
   "metadata": {},
   "source": []
  }
 ],
 "metadata": {
  "language_info": {
   "name": "python"
  }
 },
 "nbformat": 4,
 "nbformat_minor": 2
}
