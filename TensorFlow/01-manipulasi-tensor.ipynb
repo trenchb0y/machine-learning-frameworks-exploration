{
 "cells": [
  {
   "cell_type": "markdown",
   "metadata": {},
   "source": [
    "# Pengenalan Dasar Manipulasi Tensor menggunakan TensorFlow\n",
    "\n",
    "Import library yang akan digunakan seperti berikut"
   ]
  },
  {
   "cell_type": "code",
   "execution_count": null,
   "metadata": {},
   "outputs": [],
   "source": [
    "import numpy as np\n",
    "import tensorflow as tf"
   ]
  },
  {
   "cell_type": "markdown",
   "metadata": {},
   "source": [
    "Tensor adalah struktur data utama dalam TensorFlow. Berikut merupakan contoh insialisasi tensor menggunakan TensorFlow."
   ]
  },
  {
   "cell_type": "code",
   "execution_count": null,
   "metadata": {},
   "outputs": [],
   "source": [
    "# Membuat tensor dari Python list\n",
    "scalar = tf.constant(7)  # Tensor 0D (scalar)\n",
    "vector = tf.constant([1, 2, 3])  # Tensor 1D (vector)\n",
    "matrix = tf.constant([[1, 2], [3, 4]])  # Tensor 2D (matrix)\n",
    "tensor_3d = tf.constant([[[1, 2], [3, 4]], [[5, 6], [7, 8]]])  # Tensor 3D\n",
    "\n",
    "print(\"Scalar:\", scalar)\n",
    "print(\"Vector:\", vector)\n",
    "print(\"Matrix:\", matrix)\n",
    "print(\"3D Tensor:\", tensor_3d)"
   ]
  },
  {
   "cell_type": "markdown",
   "metadata": {},
   "source": [
    "TensorFlow juga memiliki beberapa method untuk melihat properti yang dimiliki oleh suatu tensor seperti berikut:"
   ]
  },
  {
   "cell_type": "code",
   "execution_count": null,
   "metadata": {},
   "outputs": [],
   "source": [
    "# Memeriksa shape (bentuk) tensor\n",
    "print(\"Shape scalar:\", scalar.shape)\n",
    "print(\"Shape vector:\", vector.shape)\n",
    "print(\"Shape matrix:\", matrix.shape)\n",
    "\n",
    "# Memeriksa tipe data tensor\n",
    "print(\"\\nTipe data:\", vector.dtype)\n",
    "\n",
    "# Memeriksa rank (jumlah dimensi) tensor\n",
    "print(\"\\nRank scalar:\", tf.rank(scalar))\n",
    "print(\"Rank matrix:\", tf.rank(matrix))"
   ]
  },
  {
   "cell_type": "markdown",
   "metadata": {},
   "source": [
    "Beberapa operasi dasar pun bisa dilakukan secara langsung dalam tensor-tensor ini."
   ]
  },
  {
   "cell_type": "code",
   "execution_count": null,
   "metadata": {},
   "outputs": [],
   "source": [
    "# Membuat dua matrix untuk operasi\n",
    "matrix_a = tf.constant([[1, 2], [3, 4]], dtype=tf.float32)\n",
    "matrix_b = tf.constant([[5, 6], [7, 8]], dtype=tf.float32)\n",
    "\n",
    "# Operasi matematika dasar\n",
    "print(\"Penjumlahan:\")\n",
    "print(tf.add(matrix_a, matrix_b))\n",
    "\n",
    "print(\"\\nPerkalian element-wise:\")\n",
    "print(tf.multiply(matrix_a, matrix_b))\n",
    "\n",
    "print(\"\\nPerkalian matriks:\")\n",
    "print(tf.matmul(matrix_a, matrix_b))"
   ]
  },
  {
   "cell_type": "markdown",
   "metadata": {},
   "source": [
    "Beberapa method dasar manipulasi tensor juga dapat dilakukan secara langsung"
   ]
  },
  {
   "cell_type": "code",
   "execution_count": null,
   "metadata": {},
   "outputs": [],
   "source": [
    "# Membuat tensor untuk dimanipulasi\n",
    "original = tf.constant([1, 2, 3, 4, 5, 6])\n",
    "\n",
    "# Reshape tensor\n",
    "reshaped = tf.reshape(original, [2, 3])\n",
    "print(\"Tensor setelah reshape:\")\n",
    "print(reshaped)\n",
    "\n",
    "# Slicing tensor\n",
    "matrix_c = tf.constant([[1, 2, 3],\n",
    "                       [4, 5, 6],\n",
    "                       [7, 8, 9]])\n",
    "\n",
    "# Mengambil baris pertama\n",
    "print(\"\\nBaris pertama:\")\n",
    "print(matrix_c[0])\n",
    "\n",
    "# Mengambil kolom kedua\n",
    "print(\"\\nKolom kedua:\")\n",
    "print(matrix_c[:, 1])"
   ]
  },
  {
   "cell_type": "markdown",
   "metadata": {},
   "source": [
    "Kita pun bisa mengkonversi tipe data tensor menjadi numpy dan sebaliknya"
   ]
  },
  {
   "cell_type": "code",
   "execution_count": null,
   "metadata": {},
   "outputs": [],
   "source": [
    "# Membuat array NumPy\n",
    "np_array = np.array([[1, 2], [3, 4]])\n",
    "\n",
    "# Konversi dari NumPy ke Tensor\n",
    "tensor_from_np = tf.convert_to_tensor(np_array)\n",
    "print(\"Tensor dari NumPy:\")\n",
    "print(tensor_from_np)\n",
    "\n",
    "# Konversi dari Tensor ke NumPy\n",
    "np_from_tensor = tensor_from_np.numpy()\n",
    "print(\"\\nNumPy dari Tensor:\")\n",
    "print(np_from_tensor)"
   ]
  },
  {
   "cell_type": "markdown",
   "metadata": {},
   "source": [
    "Data sering kali hadir dalam berbagai bentuk dan ukuran. Dalam beberapa kasus, kita perlu melakukan operasi pada tensor dengan bentuk (shape) yang berbeda. Di sinilah broadcasting menjadi solusi. Broadcasting adalah kemampuan TensorFlow untuk melakukan operasi pada tensor dengan shape yang berbeda. TensorFlow akan secara otomatis menyesuaikan dimensi tensor yang lebih kecil agar sesuai dengan tensor yang lebih besar."
   ]
  },
  {
   "cell_type": "code",
   "execution_count": null,
   "metadata": {},
   "outputs": [],
   "source": [
    "# Contoh 1: Broadcasting scalar dengan matrix\n",
    "matrix = tf.constant([[1, 2], [3, 4]], dtype=tf.float32)\n",
    "scalar = tf.constant(2.0)\n",
    "\n",
    "print(\"Matrix:\")\n",
    "print(matrix)\n",
    "print(\"\\nHasil perkalian matrix dengan scalar:\")\n",
    "print(matrix * scalar)  # scalar akan di-broadcast ke semua elemen"
   ]
  },
  {
   "cell_type": "code",
   "execution_count": null,
   "metadata": {},
   "outputs": [],
   "source": [
    "# Contoh 2: Broadcasting vector dengan matrix\n",
    "matrix = tf.constant([[1, 2, 3],\n",
    "                     [4, 5, 6],\n",
    "                     [7, 8, 9]], dtype=tf.float32)\n",
    "vector = tf.constant([1, 2, 3], dtype=tf.float32)\n",
    "\n",
    "print(\"Matrix (shape {}):\".format(matrix.shape))\n",
    "print(matrix)\n",
    "print(\"\\nVector (shape {}):\".format(vector.shape))\n",
    "print(vector)\n",
    "print(\"\\nHasil penambahan (broadcasting):\")\n",
    "print(matrix + vector)  # vector akan di-broadcast ke setiap baris"
   ]
  },
  {
   "cell_type": "code",
   "execution_count": null,
   "metadata": {},
   "outputs": [],
   "source": [
    "# Contoh 3: Broadcasting dengan dimensi yang berbeda\n",
    "# Matrix 3x3x1\n",
    "tensor_3d = tf.constant([[[1], [2], [3]],\n",
    "                        [[4], [5], [6]],\n",
    "                        [[7], [8], [9]]], dtype=tf.float32)\n",
    "# Vector 1x3\n",
    "vector_2d = tf.constant([[1, 2, 3]], dtype=tf.float32)\n",
    "\n",
    "print(\"Tensor 3D shape:\", tensor_3d.shape)\n",
    "print(\"Vector 2D shape:\", vector_2d.shape)\n",
    "print(\"\\nHasil broadcasting multiplication:\")\n",
    "result = tensor_3d * vector_2d\n",
    "print(result)\n",
    "print(\"Result shape:\", result.shape)"
   ]
  },
  {
   "cell_type": "markdown",
   "metadata": {},
   "source": [
    "#### Catatan penting:\n",
    "1. Dimensi dimulai dari dimensi paling kanan (trailing dimensions)\n",
    "2. Dua dimensi compatible jika:\n",
    "   - Mereka sama, atau\n",
    "   - Salah satu dimensi adalah 1, atau\n",
    "   - Salah satu tensor tidak memiliki dimensi tersebut\n",
    "3. TensorFlow akan menduplikasi data sepanjang dimensi yang di-broadcast"
   ]
  },
  {
   "cell_type": "markdown",
   "metadata": {},
   "source": []
  }
 ],
 "metadata": {
  "kernelspec": {
   "display_name": "base",
   "language": "python",
   "name": "python3"
  },
  "language_info": {
   "name": "python",
   "version": "3.12.1"
  }
 },
 "nbformat": 4,
 "nbformat_minor": 2
}
