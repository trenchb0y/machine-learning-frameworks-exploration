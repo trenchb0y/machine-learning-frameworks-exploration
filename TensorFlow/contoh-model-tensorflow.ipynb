{
 "cells": [
  {
   "cell_type": "markdown",
   "metadata": {},
   "source": [
    "# Contoh model simple TensorFlow menggunakan 1 layer dense\n",
    "\n",
    "Import library yang akan digunakan seperti berikut"
   ]
  },
  {
   "cell_type": "code",
   "execution_count": null,
   "metadata": {},
   "outputs": [],
   "source": [
    "import numpy as np\n",
    "import tensorflow as tf"
   ]
  },
  {
   "cell_type": "markdown",
   "metadata": {},
   "source": [
    "Lalu rancang modelnya dalam suatu fungsi untuk reusability"
   ]
  },
  {
   "cell_type": "code",
   "execution_count": null,
   "metadata": {},
   "outputs": [],
   "source": [
    "def simpleDenseModel():\n",
    "    # Contoh data X dan Y, X adalah input dan Y adalah output.\n",
    "    # Data merupakan fungsi linear y = 2x + 1.\n",
    "    # Model akan mempelajari hubungan antara X dan Y tanpa memberikan fungsi linearnya secara explisit.\n",
    "    X = np.array([-4.0, -3.0, -2.0, -1.0, 0.0, 1.0, 2.0, 3.0, 4.0, 5.0], dtype=float)\n",
    "    Y = np.array([-3.0, -1.0, 1.0, 3.0, 5.0, 7.0, 9.0, 11.0, 13.0, 15.0], dtype=float)\n",
    "\n",
    "    # Menggunakan callback untuk menghentikan training jika loss < 1e-4.\n",
    "    class myCallback(tf.keras.callbacks.Callback):\n",
    "        def on_epoch_end(self, epoch, logs={}):\n",
    "            if logs.get('loss') < 1e-4:\n",
    "                print(\"\\nMSE Loss is < 1e-4\\nStopping training...\")\n",
    "                self.model.stop_training = True\n",
    "\n",
    "    # Inisialisasi callback.\n",
    "    callbacks = myCallback()\n",
    "\n",
    "    # Membuat model dengan 1 layer Dense dengan 1 neuron.\n",
    "    model = tf.keras.models.Sequential([\n",
    "        tf.keras.layers.Dense(1, input_shape=[1])\n",
    "    ])\n",
    "\n",
    "    # Compile model dengan optimizer SGD, loss function MSE, dan metrics accuracy.\n",
    "    model.compile(optimizer=\"sgd\",\n",
    "                  loss=\"mean_squared_error\",\n",
    "                  metrics=['accuracy'])\n",
    "    \n",
    "    # Training model.\n",
    "    model.fit(X, Y, epochs=1000, callbacks=[callbacks], verbose=2)\n",
    "\n",
    "    # Test hasil prediksi dengan x=(-2, 10).\n",
    "    print(model.predict([-2.0, 10.0]))\n",
    "    return model"
   ]
  },
  {
   "cell_type": "markdown",
   "metadata": {},
   "source": [
    "Dan akhirnya panggil function itu di dalam main."
   ]
  },
  {
   "cell_type": "code",
   "execution_count": null,
   "metadata": {},
   "outputs": [],
   "source": [
    "# Save model.\n",
    "if __name__ == '__main__':\n",
    "    model = simpleDenseModel()\n",
    "    model.save(\"model_A1.h5\")"
   ]
  }
 ],
 "metadata": {
  "kernelspec": {
   "display_name": "visdat-env",
   "language": "python",
   "name": "python3"
  },
  "language_info": {
   "name": "python",
   "version": "3.12.8"
  }
 },
 "nbformat": 4,
 "nbformat_minor": 2
}
