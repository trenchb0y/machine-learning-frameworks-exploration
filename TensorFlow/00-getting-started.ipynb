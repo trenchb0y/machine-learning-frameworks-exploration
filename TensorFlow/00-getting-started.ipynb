{
 "cells": [
  {
   "cell_type": "markdown",
   "metadata": {},
   "source": [
    "# Cara meng-install TensorFlow di Python\n",
    "\n",
    "Source: https://www.tensorflow.org/install/pip"
   ]
  },
  {
   "cell_type": "markdown",
   "metadata": {},
   "source": [
    "#### Catatan Penting:\n",
    "\n",
    "Kemungkinan besarnya anda akan lebih memanfaatkan environment cloud seperti Google Colab ataupun Kaggle, karena hardware yang disediakannya bisa jadi jauh lebih kuat daripada yang anda miliki.Tentunya environment cloud pada umumnya memiliki keterbatasan penggunaan untuk akun non-subscription atau sejenisnya. Inilah yang menjadi tantangan dalam pemrograman arsitektur machine learning, khususnya di jaman sekarang yang semakin hari semakin terabstraksi. Ketika model ataupun metode state-of-the-art bermunculan di mana-mana siap dipakai (open source), kita seharusnya tetap berpikir: \"Bagaimana caranya agar solusi saya masih tetap efisien tanpa mengorbankan banyak hasil\"."
   ]
  }
 ],
 "metadata": {
  "language_info": {
   "name": "python"
  }
 },
 "nbformat": 4,
 "nbformat_minor": 2
}
