{
 "cells": [
  {
   "cell_type": "markdown",
   "metadata": {},
   "source": [
    "# Contoh model simple Keras menggunakan 1 layer dense"
   ]
  },
  {
   "cell_type": "markdown",
   "metadata": {},
   "source": [
    "Import library yang akan digunakan seperti berikut"
   ]
  },
  {
   "cell_type": "code",
   "execution_count": null,
   "metadata": {},
   "outputs": [],
   "source": [
    "import numpy as np\n",
    "import keras"
   ]
  },
  {
   "cell_type": "markdown",
   "metadata": {},
   "source": [
    "Lalu rancang modelnya dalam suatu fungsi untuk reusability"
   ]
  },
  {
   "cell_type": "code",
   "execution_count": null,
   "metadata": {},
   "outputs": [],
   "source": [
    "def simpleDenseModel():\n",
    "    # Contoh data X dan Y, X adalah input dan Y adalah output.\n",
    "    # Data merupakan fungsi linear y = 2x + 1.\n",
    "    # Model akan mempelajari hubungan antara X dan Y tanpa memberikan fungsi linearnya secara explisit.\n",
    "    X = np.array([-4.0, -3.0, -2.0, -1.0, 0.0, 1.0, 2.0, 3.0, 4.0, 5.0], dtype=float)\n",
    "    Y = np.array([-3.0, -1.0, 1.0, 3.0, 5.0, 7.0, 9.0, 11.0, 13.0, 15.0], dtype=float)\n",
    "\n",
    "    # Menggunakan callback untuk menghentikan training jika loss < 1e-4.\n",
    "    class myCallback(keras.callbacks.Callback):\n",
    "        def on_epoch_end(self, epoch, logs={}):\n",
    "            if logs.get('loss') < 1e-4:\n",
    "                print(\"\\nMSE Loss is < 1e-4\\nStopping training...\")\n",
    "                self.model.stop_training = True\n",
    "\n",
    "    # Inisialisasi callback.\n",
    "    callbacks = myCallback()\n",
    "\n",
    "    # Membuat model menggunakan Functional API Keras\n",
    "    inputs = keras.layers.Input(shape=(1,))\n",
    "    outputs = keras.layers.Dense(1)(inputs)\n",
    "    model = keras.Model(inputs=inputs, outputs=outputs)\n",
    "\n",
    "    # Alternatif menggunakan Sequential API\n",
    "    # model = keras.Sequential([\n",
    "    #     Dense(1, input_shape=(1,))\n",
    "    # ])\n",
    "\n",
    "    # Compile model dengan optimizer SGD, loss function MSE.\n",
    "    model.compile(optimizer=\"sgd\",\n",
    "                  loss=\"mean_squared_error\",\n",
    "                  metrics=['accuracy'])\n",
    "    \n",
    "    # Training model.\n",
    "    model.fit(X, Y, epochs=1000, callbacks=[callbacks], verbose=2)\n",
    "    return model"
   ]
  },
  {
   "cell_type": "code",
   "execution_count": null,
   "metadata": {},
   "outputs": [],
   "source": [
    "# Jalankan dan simpan model.\n",
    "if __name__ == '__main__':\n",
    "    model = simpleDenseModel()\n",
    "    model.save(\"simple-dense-model.keras\")\n",
    "    \n",
    "    # Test hasil prediksi dengan x=(-2, 10).\n",
    "    test_data = np.array([-2.0, 10.0], dtype=float)\n",
    "    model_trained = keras.models.load_model('simple-dense-model.h5')\n",
    "    predictions = model_trained.predict(test_data)\n",
    "    print(\"Predictions:\", predictions)"
   ]
  },
  {
   "cell_type": "markdown",
   "metadata": {},
   "source": [
    "Jika kita lihat jawabannya mendekati 1 dan 25, ini karena neural network pada umumnya menghitung dengan nilai kontinu. Untuk jawaban yang komprehensif, penulis merokemendasikan para pembaca untuk mencari sendiri melalui dokumentasi https://keras.io/api/"
   ]
  }
 ],
 "metadata": {
  "kernelspec": {
   "display_name": "Python 3",
   "language": "python",
   "name": "python3"
  },
  "language_info": {
   "name": "python",
   "version": "3.12.8"
  }
 },
 "nbformat": 4,
 "nbformat_minor": 2
}
