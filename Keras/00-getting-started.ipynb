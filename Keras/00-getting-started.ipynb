{
 "cells": [
  {
   "cell_type": "markdown",
   "metadata": {},
   "source": [
    "# Cara meng-install Keras di Python\n",
    "\n",
    "Source: https://keras.io/getting_started/"
   ]
  },
  {
   "cell_type": "markdown",
   "metadata": {},
   "source": [
    "Seperti library Python lainnya, Keras bisa di-install dengan menggunakan PyPi seperti berikut:"
   ]
  },
  {
   "cell_type": "code",
   "execution_count": null,
   "metadata": {},
   "outputs": [],
   "source": [
    "%pip install --upgrade keras"
   ]
  },
  {
   "cell_type": "markdown",
   "metadata": {},
   "source": [
    "Untuk memvalidasi Keras yang sudah diunduh, ketik sebagai berikut:"
   ]
  },
  {
   "cell_type": "code",
   "execution_count": null,
   "metadata": {},
   "outputs": [],
   "source": [
    "import keras\n",
    "keras.__version__"
   ]
  },
  {
   "cell_type": "markdown",
   "metadata": {},
   "source": [
    "#### Catatan Penting:\n",
    "\n",
    "Kemungkinan besarnya anda akan lebih memanfaatkan environment cloud seperti Google Colab ataupun Kaggle, karena hardware yang disediakannya bisa jadi jauh lebih kuat daripada yang anda miliki.Tentunya environment cloud pada umumnya memiliki keterbatasan penggunaan untuk akun non-subscription atau sejenisnya. Inilah yang menjadi tantangan dalam pemrograman arsitektur machine learning, khususnya di jaman sekarang yang semakin hari semakin terabstraksi. Ketika model ataupun metode state-of-the-art bermunculan di mana-mana siap dipakai (open source), kita seharusnya tetap berpikir: \"Bagaimana caranya agar solusi saya masih tetap efisien tanpa mengorbankan banyak hasil\"."
   ]
  }
 ],
 "metadata": {
  "kernelspec": {
   "display_name": "visdat-env",
   "language": "python",
   "name": "python3"
  },
  "language_info": {
   "codemirror_mode": {
    "name": "ipython",
    "version": 3
   },
   "file_extension": ".py",
   "mimetype": "text/x-python",
   "name": "python",
   "nbconvert_exporter": "python",
   "pygments_lexer": "ipython3",
   "version": "3.12.8"
  }
 },
 "nbformat": 4,
 "nbformat_minor": 2
}
